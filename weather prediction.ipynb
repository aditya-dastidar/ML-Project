{
 "cells": [
  {
   "cell_type": "code",
   "execution_count": 1,
   "id": "4e49b5f5",
   "metadata": {
    "_cell_guid": "b1076dfc-b9ad-4769-8c92-a6c4dae69d19",
    "_uuid": "8f2839f25d086af736a60e9eeb907d3b93b6e0e5",
    "execution": {
     "iopub.execute_input": "2023-10-07T15:11:49.297317Z",
     "iopub.status.busy": "2023-10-07T15:11:49.296806Z",
     "iopub.status.idle": "2023-10-07T15:11:49.724382Z",
     "shell.execute_reply": "2023-10-07T15:11:49.722888Z"
    },
    "papermill": {
     "duration": 0.441138,
     "end_time": "2023-10-07T15:11:49.726943",
     "exception": false,
     "start_time": "2023-10-07T15:11:49.285805",
     "status": "completed"
    },
    "tags": []
   },
   "outputs": [
    {
     "name": "stdout",
     "output_type": "stream",
     "text": [
      "/kaggle/input/weather-dataset-rattle-package/weatherAUS.csv\n"
     ]
    }
   ],
   "source": [
    "# This Python 3 environment comes with many helpful analytics libraries installed\n",
    "# It is defined by the kaggle/python Docker image: https://github.com/kaggle/docker-python\n",
    "# For example, here's several helpful packages to load\n",
    "\n",
    "import numpy as np # linear algebra\n",
    "import pandas as pd # data processing, CSV file I/O (e.g. pd.read_csv)\n",
    "\n",
    "# Input data files are available in the read-only \"../input/\" directory\n",
    "# For example, running this (by clicking run or pressing Shift+Enter) will list all files under the input directory\n",
    "\n",
    "import os\n",
    "for dirname, _, filenames in os.walk('/kaggle/input'):\n",
    "    for filename in filenames:\n",
    "        print(os.path.join(dirname, filename))\n",
    "\n",
    "# You can write up to 20GB to the current directory (/kaggle/working/) that gets preserved as output when you create a version using \"Save & Run All\" \n",
    "# You can also write temporary files to /kaggle/temp/, but they won't be saved outside of the current session"
   ]
  },
  {
   "cell_type": "code",
   "execution_count": 2,
   "id": "480cf786",
   "metadata": {
    "execution": {
     "iopub.execute_input": "2023-10-07T15:11:49.746626Z",
     "iopub.status.busy": "2023-10-07T15:11:49.746052Z",
     "iopub.status.idle": "2023-10-07T15:11:51.585427Z",
     "shell.execute_reply": "2023-10-07T15:11:51.584184Z"
    },
    "papermill": {
     "duration": 1.852627,
     "end_time": "2023-10-07T15:11:51.588477",
     "exception": false,
     "start_time": "2023-10-07T15:11:49.735850",
     "status": "completed"
    },
    "tags": []
   },
   "outputs": [],
   "source": [
    "import pandas as pd\n",
    "from sklearn.linear_model import LogisticRegression\n",
    "from sklearn.linear_model import LinearRegression\n",
    "from sklearn import preprocessing\n",
    "import numpy as np\n",
    "from sklearn.neighbors import KNeighborsClassifier\n",
    "from sklearn.model_selection import train_test_split\n",
    "from sklearn.neighbors import KNeighborsClassifier\n",
    "from sklearn.tree import DecisionTreeClassifier\n",
    "from sklearn import svm\n",
    "from sklearn.metrics import jaccard_score\n",
    "from sklearn.metrics import f1_score\n",
    "from sklearn.metrics import log_loss\n",
    "from sklearn.metrics import confusion_matrix, accuracy_score\n",
    "import sklearn.metrics as metrics"
   ]
  },
  {
   "cell_type": "code",
   "execution_count": 3,
   "id": "1b5cc43b",
   "metadata": {
    "execution": {
     "iopub.execute_input": "2023-10-07T15:11:51.608138Z",
     "iopub.status.busy": "2023-10-07T15:11:51.607689Z",
     "iopub.status.idle": "2023-10-07T15:11:52.318497Z",
     "shell.execute_reply": "2023-10-07T15:11:52.317336Z"
    },
    "papermill": {
     "duration": 0.723799,
     "end_time": "2023-10-07T15:11:52.321386",
     "exception": false,
     "start_time": "2023-10-07T15:11:51.597587",
     "status": "completed"
    },
    "tags": []
   },
   "outputs": [
    {
     "data": {
      "text/html": [
       "<div>\n",
       "<style scoped>\n",
       "    .dataframe tbody tr th:only-of-type {\n",
       "        vertical-align: middle;\n",
       "    }\n",
       "\n",
       "    .dataframe tbody tr th {\n",
       "        vertical-align: top;\n",
       "    }\n",
       "\n",
       "    .dataframe thead th {\n",
       "        text-align: right;\n",
       "    }\n",
       "</style>\n",
       "<table border=\"1\" class=\"dataframe\">\n",
       "  <thead>\n",
       "    <tr style=\"text-align: right;\">\n",
       "      <th></th>\n",
       "      <th>Date</th>\n",
       "      <th>Location</th>\n",
       "      <th>MinTemp</th>\n",
       "      <th>MaxTemp</th>\n",
       "      <th>Rainfall</th>\n",
       "      <th>Evaporation</th>\n",
       "      <th>Sunshine</th>\n",
       "      <th>WindGustDir</th>\n",
       "      <th>WindGustSpeed</th>\n",
       "      <th>WindDir9am</th>\n",
       "      <th>...</th>\n",
       "      <th>Humidity9am</th>\n",
       "      <th>Humidity3pm</th>\n",
       "      <th>Pressure9am</th>\n",
       "      <th>Pressure3pm</th>\n",
       "      <th>Cloud9am</th>\n",
       "      <th>Cloud3pm</th>\n",
       "      <th>Temp9am</th>\n",
       "      <th>Temp3pm</th>\n",
       "      <th>RainToday</th>\n",
       "      <th>RainTomorrow</th>\n",
       "    </tr>\n",
       "  </thead>\n",
       "  <tbody>\n",
       "    <tr>\n",
       "      <th>0</th>\n",
       "      <td>2008-12-01</td>\n",
       "      <td>Albury</td>\n",
       "      <td>13.4</td>\n",
       "      <td>22.9</td>\n",
       "      <td>0.6</td>\n",
       "      <td>NaN</td>\n",
       "      <td>NaN</td>\n",
       "      <td>W</td>\n",
       "      <td>44.0</td>\n",
       "      <td>W</td>\n",
       "      <td>...</td>\n",
       "      <td>71.0</td>\n",
       "      <td>22.0</td>\n",
       "      <td>1007.7</td>\n",
       "      <td>1007.1</td>\n",
       "      <td>8.0</td>\n",
       "      <td>NaN</td>\n",
       "      <td>16.9</td>\n",
       "      <td>21.8</td>\n",
       "      <td>No</td>\n",
       "      <td>No</td>\n",
       "    </tr>\n",
       "    <tr>\n",
       "      <th>1</th>\n",
       "      <td>2008-12-02</td>\n",
       "      <td>Albury</td>\n",
       "      <td>7.4</td>\n",
       "      <td>25.1</td>\n",
       "      <td>0.0</td>\n",
       "      <td>NaN</td>\n",
       "      <td>NaN</td>\n",
       "      <td>WNW</td>\n",
       "      <td>44.0</td>\n",
       "      <td>NNW</td>\n",
       "      <td>...</td>\n",
       "      <td>44.0</td>\n",
       "      <td>25.0</td>\n",
       "      <td>1010.6</td>\n",
       "      <td>1007.8</td>\n",
       "      <td>NaN</td>\n",
       "      <td>NaN</td>\n",
       "      <td>17.2</td>\n",
       "      <td>24.3</td>\n",
       "      <td>No</td>\n",
       "      <td>No</td>\n",
       "    </tr>\n",
       "    <tr>\n",
       "      <th>2</th>\n",
       "      <td>2008-12-03</td>\n",
       "      <td>Albury</td>\n",
       "      <td>12.9</td>\n",
       "      <td>25.7</td>\n",
       "      <td>0.0</td>\n",
       "      <td>NaN</td>\n",
       "      <td>NaN</td>\n",
       "      <td>WSW</td>\n",
       "      <td>46.0</td>\n",
       "      <td>W</td>\n",
       "      <td>...</td>\n",
       "      <td>38.0</td>\n",
       "      <td>30.0</td>\n",
       "      <td>1007.6</td>\n",
       "      <td>1008.7</td>\n",
       "      <td>NaN</td>\n",
       "      <td>2.0</td>\n",
       "      <td>21.0</td>\n",
       "      <td>23.2</td>\n",
       "      <td>No</td>\n",
       "      <td>No</td>\n",
       "    </tr>\n",
       "    <tr>\n",
       "      <th>3</th>\n",
       "      <td>2008-12-04</td>\n",
       "      <td>Albury</td>\n",
       "      <td>9.2</td>\n",
       "      <td>28.0</td>\n",
       "      <td>0.0</td>\n",
       "      <td>NaN</td>\n",
       "      <td>NaN</td>\n",
       "      <td>NE</td>\n",
       "      <td>24.0</td>\n",
       "      <td>SE</td>\n",
       "      <td>...</td>\n",
       "      <td>45.0</td>\n",
       "      <td>16.0</td>\n",
       "      <td>1017.6</td>\n",
       "      <td>1012.8</td>\n",
       "      <td>NaN</td>\n",
       "      <td>NaN</td>\n",
       "      <td>18.1</td>\n",
       "      <td>26.5</td>\n",
       "      <td>No</td>\n",
       "      <td>No</td>\n",
       "    </tr>\n",
       "    <tr>\n",
       "      <th>4</th>\n",
       "      <td>2008-12-05</td>\n",
       "      <td>Albury</td>\n",
       "      <td>17.5</td>\n",
       "      <td>32.3</td>\n",
       "      <td>1.0</td>\n",
       "      <td>NaN</td>\n",
       "      <td>NaN</td>\n",
       "      <td>W</td>\n",
       "      <td>41.0</td>\n",
       "      <td>ENE</td>\n",
       "      <td>...</td>\n",
       "      <td>82.0</td>\n",
       "      <td>33.0</td>\n",
       "      <td>1010.8</td>\n",
       "      <td>1006.0</td>\n",
       "      <td>7.0</td>\n",
       "      <td>8.0</td>\n",
       "      <td>17.8</td>\n",
       "      <td>29.7</td>\n",
       "      <td>No</td>\n",
       "      <td>No</td>\n",
       "    </tr>\n",
       "  </tbody>\n",
       "</table>\n",
       "<p>5 rows × 23 columns</p>\n",
       "</div>"
      ],
      "text/plain": [
       "         Date Location  MinTemp  MaxTemp  Rainfall  Evaporation  Sunshine  \\\n",
       "0  2008-12-01   Albury     13.4     22.9       0.6          NaN       NaN   \n",
       "1  2008-12-02   Albury      7.4     25.1       0.0          NaN       NaN   \n",
       "2  2008-12-03   Albury     12.9     25.7       0.0          NaN       NaN   \n",
       "3  2008-12-04   Albury      9.2     28.0       0.0          NaN       NaN   \n",
       "4  2008-12-05   Albury     17.5     32.3       1.0          NaN       NaN   \n",
       "\n",
       "  WindGustDir  WindGustSpeed WindDir9am  ... Humidity9am  Humidity3pm  \\\n",
       "0           W           44.0          W  ...        71.0         22.0   \n",
       "1         WNW           44.0        NNW  ...        44.0         25.0   \n",
       "2         WSW           46.0          W  ...        38.0         30.0   \n",
       "3          NE           24.0         SE  ...        45.0         16.0   \n",
       "4           W           41.0        ENE  ...        82.0         33.0   \n",
       "\n",
       "   Pressure9am  Pressure3pm  Cloud9am  Cloud3pm  Temp9am  Temp3pm  RainToday  \\\n",
       "0       1007.7       1007.1       8.0       NaN     16.9     21.8         No   \n",
       "1       1010.6       1007.8       NaN       NaN     17.2     24.3         No   \n",
       "2       1007.6       1008.7       NaN       2.0     21.0     23.2         No   \n",
       "3       1017.6       1012.8       NaN       NaN     18.1     26.5         No   \n",
       "4       1010.8       1006.0       7.0       8.0     17.8     29.7         No   \n",
       "\n",
       "   RainTomorrow  \n",
       "0            No  \n",
       "1            No  \n",
       "2            No  \n",
       "3            No  \n",
       "4            No  \n",
       "\n",
       "[5 rows x 23 columns]"
      ]
     },
     "execution_count": 3,
     "metadata": {},
     "output_type": "execute_result"
    }
   ],
   "source": [
    "df = pd.read_csv(\"/kaggle/input/weather-dataset-rattle-package/weatherAUS.csv\")\n",
    "df.head()"
   ]
  },
  {
   "cell_type": "code",
   "execution_count": 4,
   "id": "4a578059",
   "metadata": {
    "execution": {
     "iopub.execute_input": "2023-10-07T15:11:52.342761Z",
     "iopub.status.busy": "2023-10-07T15:11:52.342297Z",
     "iopub.status.idle": "2023-10-07T15:11:52.349194Z",
     "shell.execute_reply": "2023-10-07T15:11:52.348004Z"
    },
    "papermill": {
     "duration": 0.021148,
     "end_time": "2023-10-07T15:11:52.352023",
     "exception": false,
     "start_time": "2023-10-07T15:11:52.330875",
     "status": "completed"
    },
    "tags": []
   },
   "outputs": [
    {
     "data": {
      "text/plain": [
       "(145460, 23)"
      ]
     },
     "execution_count": 4,
     "metadata": {},
     "output_type": "execute_result"
    }
   ],
   "source": [
    "df.shape"
   ]
  },
  {
   "cell_type": "code",
   "execution_count": 5,
   "id": "2ebd0a22",
   "metadata": {
    "execution": {
     "iopub.execute_input": "2023-10-07T15:11:52.372737Z",
     "iopub.status.busy": "2023-10-07T15:11:52.371822Z",
     "iopub.status.idle": "2023-10-07T15:11:52.380694Z",
     "shell.execute_reply": "2023-10-07T15:11:52.379276Z"
    },
    "papermill": {
     "duration": 0.02189,
     "end_time": "2023-10-07T15:11:52.382884",
     "exception": false,
     "start_time": "2023-10-07T15:11:52.360994",
     "status": "completed"
    },
    "tags": []
   },
   "outputs": [
    {
     "data": {
      "text/plain": [
       "Date              object\n",
       "Location          object\n",
       "MinTemp          float64\n",
       "MaxTemp          float64\n",
       "Rainfall         float64\n",
       "Evaporation      float64\n",
       "Sunshine         float64\n",
       "WindGustDir       object\n",
       "WindGustSpeed    float64\n",
       "WindDir9am        object\n",
       "WindDir3pm        object\n",
       "WindSpeed9am     float64\n",
       "WindSpeed3pm     float64\n",
       "Humidity9am      float64\n",
       "Humidity3pm      float64\n",
       "Pressure9am      float64\n",
       "Pressure3pm      float64\n",
       "Cloud9am         float64\n",
       "Cloud3pm         float64\n",
       "Temp9am          float64\n",
       "Temp3pm          float64\n",
       "RainToday         object\n",
       "RainTomorrow      object\n",
       "dtype: object"
      ]
     },
     "execution_count": 5,
     "metadata": {},
     "output_type": "execute_result"
    }
   ],
   "source": [
    "df.dtypes"
   ]
  },
  {
   "cell_type": "code",
   "execution_count": 6,
   "id": "e2935baf",
   "metadata": {
    "execution": {
     "iopub.execute_input": "2023-10-07T15:11:52.404139Z",
     "iopub.status.busy": "2023-10-07T15:11:52.403339Z",
     "iopub.status.idle": "2023-10-07T15:11:52.425014Z",
     "shell.execute_reply": "2023-10-07T15:11:52.423477Z"
    },
    "papermill": {
     "duration": 0.035528,
     "end_time": "2023-10-07T15:11:52.427686",
     "exception": false,
     "start_time": "2023-10-07T15:11:52.392158",
     "status": "completed"
    },
    "tags": []
   },
   "outputs": [],
   "source": [
    "df = df[df['Location'] == 'Sydney']"
   ]
  },
  {
   "cell_type": "code",
   "execution_count": 7,
   "id": "922f5a1f",
   "metadata": {
    "execution": {
     "iopub.execute_input": "2023-10-07T15:11:52.448408Z",
     "iopub.status.busy": "2023-10-07T15:11:52.447934Z",
     "iopub.status.idle": "2023-10-07T15:11:52.454943Z",
     "shell.execute_reply": "2023-10-07T15:11:52.453830Z"
    },
    "papermill": {
     "duration": 0.020037,
     "end_time": "2023-10-07T15:11:52.457078",
     "exception": false,
     "start_time": "2023-10-07T15:11:52.437041",
     "status": "completed"
    },
    "tags": []
   },
   "outputs": [
    {
     "data": {
      "text/plain": [
       "(3344, 23)"
      ]
     },
     "execution_count": 7,
     "metadata": {},
     "output_type": "execute_result"
    }
   ],
   "source": [
    "df.shape"
   ]
  },
  {
   "cell_type": "code",
   "execution_count": 8,
   "id": "cc5ee82f",
   "metadata": {
    "execution": {
     "iopub.execute_input": "2023-10-07T15:11:52.478091Z",
     "iopub.status.busy": "2023-10-07T15:11:52.477411Z",
     "iopub.status.idle": "2023-10-07T15:11:52.501633Z",
     "shell.execute_reply": "2023-10-07T15:11:52.500474Z"
    },
    "papermill": {
     "duration": 0.037734,
     "end_time": "2023-10-07T15:11:52.504199",
     "exception": false,
     "start_time": "2023-10-07T15:11:52.466465",
     "status": "completed"
    },
    "tags": []
   },
   "outputs": [
    {
     "data": {
      "text/html": [
       "<div>\n",
       "<style scoped>\n",
       "    .dataframe tbody tr th:only-of-type {\n",
       "        vertical-align: middle;\n",
       "    }\n",
       "\n",
       "    .dataframe tbody tr th {\n",
       "        vertical-align: top;\n",
       "    }\n",
       "\n",
       "    .dataframe thead th {\n",
       "        text-align: right;\n",
       "    }\n",
       "</style>\n",
       "<table border=\"1\" class=\"dataframe\">\n",
       "  <thead>\n",
       "    <tr style=\"text-align: right;\">\n",
       "      <th></th>\n",
       "      <th>Date</th>\n",
       "      <th>Location</th>\n",
       "      <th>MinTemp</th>\n",
       "      <th>MaxTemp</th>\n",
       "      <th>Rainfall</th>\n",
       "      <th>Evaporation</th>\n",
       "      <th>Sunshine</th>\n",
       "      <th>WindGustDir</th>\n",
       "      <th>WindGustSpeed</th>\n",
       "      <th>WindDir9am</th>\n",
       "      <th>...</th>\n",
       "      <th>Humidity9am</th>\n",
       "      <th>Humidity3pm</th>\n",
       "      <th>Pressure9am</th>\n",
       "      <th>Pressure3pm</th>\n",
       "      <th>Cloud9am</th>\n",
       "      <th>Cloud3pm</th>\n",
       "      <th>Temp9am</th>\n",
       "      <th>Temp3pm</th>\n",
       "      <th>RainToday</th>\n",
       "      <th>RainTomorrow</th>\n",
       "    </tr>\n",
       "  </thead>\n",
       "  <tbody>\n",
       "    <tr>\n",
       "      <th>30176</th>\n",
       "      <td>2008-02-01</td>\n",
       "      <td>Sydney</td>\n",
       "      <td>19.5</td>\n",
       "      <td>22.4</td>\n",
       "      <td>15.6</td>\n",
       "      <td>6.2</td>\n",
       "      <td>0.0</td>\n",
       "      <td>NaN</td>\n",
       "      <td>NaN</td>\n",
       "      <td>S</td>\n",
       "      <td>...</td>\n",
       "      <td>92.0</td>\n",
       "      <td>84.0</td>\n",
       "      <td>1017.6</td>\n",
       "      <td>1017.4</td>\n",
       "      <td>8.0</td>\n",
       "      <td>8.0</td>\n",
       "      <td>20.7</td>\n",
       "      <td>20.9</td>\n",
       "      <td>Yes</td>\n",
       "      <td>Yes</td>\n",
       "    </tr>\n",
       "    <tr>\n",
       "      <th>30177</th>\n",
       "      <td>2008-02-02</td>\n",
       "      <td>Sydney</td>\n",
       "      <td>19.5</td>\n",
       "      <td>25.6</td>\n",
       "      <td>6.0</td>\n",
       "      <td>3.4</td>\n",
       "      <td>2.7</td>\n",
       "      <td>NaN</td>\n",
       "      <td>NaN</td>\n",
       "      <td>W</td>\n",
       "      <td>...</td>\n",
       "      <td>83.0</td>\n",
       "      <td>73.0</td>\n",
       "      <td>1017.9</td>\n",
       "      <td>1016.4</td>\n",
       "      <td>7.0</td>\n",
       "      <td>7.0</td>\n",
       "      <td>22.4</td>\n",
       "      <td>24.8</td>\n",
       "      <td>Yes</td>\n",
       "      <td>Yes</td>\n",
       "    </tr>\n",
       "    <tr>\n",
       "      <th>30178</th>\n",
       "      <td>2008-02-03</td>\n",
       "      <td>Sydney</td>\n",
       "      <td>21.6</td>\n",
       "      <td>24.5</td>\n",
       "      <td>6.6</td>\n",
       "      <td>2.4</td>\n",
       "      <td>0.1</td>\n",
       "      <td>NaN</td>\n",
       "      <td>NaN</td>\n",
       "      <td>ESE</td>\n",
       "      <td>...</td>\n",
       "      <td>88.0</td>\n",
       "      <td>86.0</td>\n",
       "      <td>1016.7</td>\n",
       "      <td>1015.6</td>\n",
       "      <td>7.0</td>\n",
       "      <td>8.0</td>\n",
       "      <td>23.5</td>\n",
       "      <td>23.0</td>\n",
       "      <td>Yes</td>\n",
       "      <td>Yes</td>\n",
       "    </tr>\n",
       "    <tr>\n",
       "      <th>30179</th>\n",
       "      <td>2008-02-04</td>\n",
       "      <td>Sydney</td>\n",
       "      <td>20.2</td>\n",
       "      <td>22.8</td>\n",
       "      <td>18.8</td>\n",
       "      <td>2.2</td>\n",
       "      <td>0.0</td>\n",
       "      <td>NaN</td>\n",
       "      <td>NaN</td>\n",
       "      <td>NNE</td>\n",
       "      <td>...</td>\n",
       "      <td>83.0</td>\n",
       "      <td>90.0</td>\n",
       "      <td>1014.2</td>\n",
       "      <td>1011.8</td>\n",
       "      <td>8.0</td>\n",
       "      <td>8.0</td>\n",
       "      <td>21.4</td>\n",
       "      <td>20.9</td>\n",
       "      <td>Yes</td>\n",
       "      <td>Yes</td>\n",
       "    </tr>\n",
       "    <tr>\n",
       "      <th>30180</th>\n",
       "      <td>2008-02-05</td>\n",
       "      <td>Sydney</td>\n",
       "      <td>19.7</td>\n",
       "      <td>25.7</td>\n",
       "      <td>77.4</td>\n",
       "      <td>NaN</td>\n",
       "      <td>0.0</td>\n",
       "      <td>NaN</td>\n",
       "      <td>NaN</td>\n",
       "      <td>NNE</td>\n",
       "      <td>...</td>\n",
       "      <td>88.0</td>\n",
       "      <td>74.0</td>\n",
       "      <td>1008.3</td>\n",
       "      <td>1004.8</td>\n",
       "      <td>8.0</td>\n",
       "      <td>8.0</td>\n",
       "      <td>22.5</td>\n",
       "      <td>25.5</td>\n",
       "      <td>Yes</td>\n",
       "      <td>Yes</td>\n",
       "    </tr>\n",
       "  </tbody>\n",
       "</table>\n",
       "<p>5 rows × 23 columns</p>\n",
       "</div>"
      ],
      "text/plain": [
       "             Date Location  MinTemp  MaxTemp  Rainfall  Evaporation  Sunshine  \\\n",
       "30176  2008-02-01   Sydney     19.5     22.4      15.6          6.2       0.0   \n",
       "30177  2008-02-02   Sydney     19.5     25.6       6.0          3.4       2.7   \n",
       "30178  2008-02-03   Sydney     21.6     24.5       6.6          2.4       0.1   \n",
       "30179  2008-02-04   Sydney     20.2     22.8      18.8          2.2       0.0   \n",
       "30180  2008-02-05   Sydney     19.7     25.7      77.4          NaN       0.0   \n",
       "\n",
       "      WindGustDir  WindGustSpeed WindDir9am  ... Humidity9am  Humidity3pm  \\\n",
       "30176         NaN            NaN          S  ...        92.0         84.0   \n",
       "30177         NaN            NaN          W  ...        83.0         73.0   \n",
       "30178         NaN            NaN        ESE  ...        88.0         86.0   \n",
       "30179         NaN            NaN        NNE  ...        83.0         90.0   \n",
       "30180         NaN            NaN        NNE  ...        88.0         74.0   \n",
       "\n",
       "       Pressure9am  Pressure3pm  Cloud9am  Cloud3pm  Temp9am  Temp3pm  \\\n",
       "30176       1017.6       1017.4       8.0       8.0     20.7     20.9   \n",
       "30177       1017.9       1016.4       7.0       7.0     22.4     24.8   \n",
       "30178       1016.7       1015.6       7.0       8.0     23.5     23.0   \n",
       "30179       1014.2       1011.8       8.0       8.0     21.4     20.9   \n",
       "30180       1008.3       1004.8       8.0       8.0     22.5     25.5   \n",
       "\n",
       "       RainToday  RainTomorrow  \n",
       "30176        Yes           Yes  \n",
       "30177        Yes           Yes  \n",
       "30178        Yes           Yes  \n",
       "30179        Yes           Yes  \n",
       "30180        Yes           Yes  \n",
       "\n",
       "[5 rows x 23 columns]"
      ]
     },
     "execution_count": 8,
     "metadata": {},
     "output_type": "execute_result"
    }
   ],
   "source": [
    "df.head()"
   ]
  },
  {
   "cell_type": "code",
   "execution_count": 9,
   "id": "661bb3ad",
   "metadata": {
    "execution": {
     "iopub.execute_input": "2023-10-07T15:11:52.526733Z",
     "iopub.status.busy": "2023-10-07T15:11:52.526256Z",
     "iopub.status.idle": "2023-10-07T15:11:52.536290Z",
     "shell.execute_reply": "2023-10-07T15:11:52.534706Z"
    },
    "papermill": {
     "duration": 0.024245,
     "end_time": "2023-10-07T15:11:52.538811",
     "exception": false,
     "start_time": "2023-10-07T15:11:52.514566",
     "status": "completed"
    },
    "tags": []
   },
   "outputs": [],
   "source": [
    "df.drop(columns = 'Location', inplace = True)"
   ]
  },
  {
   "cell_type": "code",
   "execution_count": 10,
   "id": "5140d8f8",
   "metadata": {
    "execution": {
     "iopub.execute_input": "2023-10-07T15:11:52.561240Z",
     "iopub.status.busy": "2023-10-07T15:11:52.560401Z",
     "iopub.status.idle": "2023-10-07T15:11:52.567756Z",
     "shell.execute_reply": "2023-10-07T15:11:52.566974Z"
    },
    "papermill": {
     "duration": 0.021023,
     "end_time": "2023-10-07T15:11:52.569911",
     "exception": false,
     "start_time": "2023-10-07T15:11:52.548888",
     "status": "completed"
    },
    "tags": []
   },
   "outputs": [
    {
     "data": {
      "text/plain": [
       "Date              object\n",
       "MinTemp          float64\n",
       "MaxTemp          float64\n",
       "Rainfall         float64\n",
       "Evaporation      float64\n",
       "Sunshine         float64\n",
       "WindGustDir       object\n",
       "WindGustSpeed    float64\n",
       "WindDir9am        object\n",
       "WindDir3pm        object\n",
       "WindSpeed9am     float64\n",
       "WindSpeed3pm     float64\n",
       "Humidity9am      float64\n",
       "Humidity3pm      float64\n",
       "Pressure9am      float64\n",
       "Pressure3pm      float64\n",
       "Cloud9am         float64\n",
       "Cloud3pm         float64\n",
       "Temp9am          float64\n",
       "Temp3pm          float64\n",
       "RainToday         object\n",
       "RainTomorrow      object\n",
       "dtype: object"
      ]
     },
     "execution_count": 10,
     "metadata": {},
     "output_type": "execute_result"
    }
   ],
   "source": [
    "df.dtypes"
   ]
  },
  {
   "cell_type": "code",
   "execution_count": 11,
   "id": "e9e3e73c",
   "metadata": {
    "execution": {
     "iopub.execute_input": "2023-10-07T15:11:52.591762Z",
     "iopub.status.busy": "2023-10-07T15:11:52.590964Z",
     "iopub.status.idle": "2023-10-07T15:11:52.597672Z",
     "shell.execute_reply": "2023-10-07T15:11:52.596851Z"
    },
    "papermill": {
     "duration": 0.020219,
     "end_time": "2023-10-07T15:11:52.599884",
     "exception": false,
     "start_time": "2023-10-07T15:11:52.579665",
     "status": "completed"
    },
    "tags": []
   },
   "outputs": [],
   "source": [
    "df = df.dropna()"
   ]
  },
  {
   "cell_type": "markdown",
   "id": "02330eca",
   "metadata": {
    "papermill": {
     "duration": 0.0103,
     "end_time": "2023-10-07T15:11:52.620111",
     "exception": false,
     "start_time": "2023-10-07T15:11:52.609811",
     "status": "completed"
    },
    "tags": []
   },
   "source": [
    "## Data Preprocessing"
   ]
  },
  {
   "cell_type": "markdown",
   "id": "4ba99327",
   "metadata": {
    "papermill": {
     "duration": 0.009281,
     "end_time": "2023-10-07T15:11:52.639091",
     "exception": false,
     "start_time": "2023-10-07T15:11:52.629810",
     "status": "completed"
    },
    "tags": []
   },
   "source": [
    "###  One Hot Encoding\n",
    "First, we need to perform one hot encoding to convert categorical variables to binary variables."
   ]
  },
  {
   "cell_type": "code",
   "execution_count": 12,
   "id": "5c32841f",
   "metadata": {
    "execution": {
     "iopub.execute_input": "2023-10-07T15:11:52.752361Z",
     "iopub.status.busy": "2023-10-07T15:11:52.751856Z",
     "iopub.status.idle": "2023-10-07T15:11:52.767764Z",
     "shell.execute_reply": "2023-10-07T15:11:52.766480Z"
    },
    "papermill": {
     "duration": 0.030233,
     "end_time": "2023-10-07T15:11:52.770241",
     "exception": false,
     "start_time": "2023-10-07T15:11:52.740008",
     "status": "completed"
    },
    "tags": []
   },
   "outputs": [],
   "source": [
    "df_sydney_processed = pd.get_dummies(data=df, columns=['RainToday', 'WindGustDir', 'WindDir9am', 'WindDir3pm'])"
   ]
  },
  {
   "cell_type": "markdown",
   "id": "1c253094",
   "metadata": {
    "papermill": {
     "duration": 0.010145,
     "end_time": "2023-10-07T15:11:52.790314",
     "exception": false,
     "start_time": "2023-10-07T15:11:52.780169",
     "status": "completed"
    },
    "tags": []
   },
   "source": [
    "Next, we replace the values of the 'RainTomorrow' column changing them from a categorical column to a binary column. We do not use the get_dummies method because we would end up with two columns for 'RainTomorrow' and we do not want, since 'RainTomorrow' is our target."
   ]
  },
  {
   "cell_type": "code",
   "execution_count": 13,
   "id": "7547fc55",
   "metadata": {
    "execution": {
     "iopub.execute_input": "2023-10-07T15:11:52.812036Z",
     "iopub.status.busy": "2023-10-07T15:11:52.811523Z",
     "iopub.status.idle": "2023-10-07T15:11:52.820324Z",
     "shell.execute_reply": "2023-10-07T15:11:52.819180Z"
    },
    "papermill": {
     "duration": 0.022576,
     "end_time": "2023-10-07T15:11:52.822763",
     "exception": false,
     "start_time": "2023-10-07T15:11:52.800187",
     "status": "completed"
    },
    "tags": []
   },
   "outputs": [],
   "source": [
    "df_sydney_processed.replace(['No', 'Yes'], [0,1], inplace=True)"
   ]
  },
  {
   "cell_type": "markdown",
   "id": "e05f7ac5",
   "metadata": {
    "papermill": {
     "duration": 0.009426,
     "end_time": "2023-10-07T15:11:52.842723",
     "exception": false,
     "start_time": "2023-10-07T15:11:52.833297",
     "status": "completed"
    },
    "tags": []
   },
   "source": [
    "## Training Data and Test Data"
   ]
  },
  {
   "cell_type": "code",
   "execution_count": 14,
   "id": "2c23436e",
   "metadata": {
    "execution": {
     "iopub.execute_input": "2023-10-07T15:11:52.865095Z",
     "iopub.status.busy": "2023-10-07T15:11:52.864211Z",
     "iopub.status.idle": "2023-10-07T15:11:52.872671Z",
     "shell.execute_reply": "2023-10-07T15:11:52.871372Z"
    },
    "papermill": {
     "duration": 0.022712,
     "end_time": "2023-10-07T15:11:52.875529",
     "exception": false,
     "start_time": "2023-10-07T15:11:52.852817",
     "status": "completed"
    },
    "tags": []
   },
   "outputs": [],
   "source": [
    "df_sydney_processed.drop('Date',axis=1,inplace=True)"
   ]
  },
  {
   "cell_type": "code",
   "execution_count": 15,
   "id": "835bfd1b",
   "metadata": {
    "execution": {
     "iopub.execute_input": "2023-10-07T15:11:52.899733Z",
     "iopub.status.busy": "2023-10-07T15:11:52.898508Z",
     "iopub.status.idle": "2023-10-07T15:11:52.905340Z",
     "shell.execute_reply": "2023-10-07T15:11:52.904058Z"
    },
    "papermill": {
     "duration": 0.021454,
     "end_time": "2023-10-07T15:11:52.908093",
     "exception": false,
     "start_time": "2023-10-07T15:11:52.886639",
     "status": "completed"
    },
    "tags": []
   },
   "outputs": [],
   "source": [
    "df_sydney_processed = df_sydney_processed.astype(float)"
   ]
  },
  {
   "cell_type": "code",
   "execution_count": 16,
   "id": "bc79d377",
   "metadata": {
    "execution": {
     "iopub.execute_input": "2023-10-07T15:11:52.930809Z",
     "iopub.status.busy": "2023-10-07T15:11:52.929874Z",
     "iopub.status.idle": "2023-10-07T15:11:52.936232Z",
     "shell.execute_reply": "2023-10-07T15:11:52.935232Z"
    },
    "papermill": {
     "duration": 0.02023,
     "end_time": "2023-10-07T15:11:52.938461",
     "exception": false,
     "start_time": "2023-10-07T15:11:52.918231",
     "status": "completed"
    },
    "tags": []
   },
   "outputs": [],
   "source": [
    "features = df_sydney_processed.drop(columns='RainTomorrow', axis=1)\n",
    "Y = df_sydney_processed['RainTomorrow']"
   ]
  },
  {
   "cell_type": "markdown",
   "id": "b7c07e98",
   "metadata": {
    "papermill": {
     "duration": 0.009513,
     "end_time": "2023-10-07T15:11:52.957982",
     "exception": false,
     "start_time": "2023-10-07T15:11:52.948469",
     "status": "completed"
    },
    "tags": []
   },
   "source": [
    "## Modeling: Linear Regression"
   ]
  },
  {
   "cell_type": "code",
   "execution_count": 17,
   "id": "109a8858",
   "metadata": {
    "execution": {
     "iopub.execute_input": "2023-10-07T15:11:52.979782Z",
     "iopub.status.busy": "2023-10-07T15:11:52.979025Z",
     "iopub.status.idle": "2023-10-07T15:11:52.986183Z",
     "shell.execute_reply": "2023-10-07T15:11:52.985234Z"
    },
    "papermill": {
     "duration": 0.021033,
     "end_time": "2023-10-07T15:11:52.988771",
     "exception": false,
     "start_time": "2023-10-07T15:11:52.967738",
     "status": "completed"
    },
    "tags": []
   },
   "outputs": [],
   "source": [
    "from sklearn.model_selection import train_test_split\n",
    "X_train, X_test, y_train, y_test = train_test_split(features, Y, test_size=0.2, random_state=10)"
   ]
  },
  {
   "cell_type": "code",
   "execution_count": 18,
   "id": "5a119de8",
   "metadata": {
    "execution": {
     "iopub.execute_input": "2023-10-07T15:11:53.011364Z",
     "iopub.status.busy": "2023-10-07T15:11:53.010540Z",
     "iopub.status.idle": "2023-10-07T15:11:53.072530Z",
     "shell.execute_reply": "2023-10-07T15:11:53.070588Z"
    },
    "papermill": {
     "duration": 0.078614,
     "end_time": "2023-10-07T15:11:53.077459",
     "exception": false,
     "start_time": "2023-10-07T15:11:52.998845",
     "status": "completed"
    },
    "tags": []
   },
   "outputs": [
    {
     "data": {
      "text/html": [
       "<style>#sk-container-id-1 {color: black;background-color: white;}#sk-container-id-1 pre{padding: 0;}#sk-container-id-1 div.sk-toggleable {background-color: white;}#sk-container-id-1 label.sk-toggleable__label {cursor: pointer;display: block;width: 100%;margin-bottom: 0;padding: 0.3em;box-sizing: border-box;text-align: center;}#sk-container-id-1 label.sk-toggleable__label-arrow:before {content: \"▸\";float: left;margin-right: 0.25em;color: #696969;}#sk-container-id-1 label.sk-toggleable__label-arrow:hover:before {color: black;}#sk-container-id-1 div.sk-estimator:hover label.sk-toggleable__label-arrow:before {color: black;}#sk-container-id-1 div.sk-toggleable__content {max-height: 0;max-width: 0;overflow: hidden;text-align: left;background-color: #f0f8ff;}#sk-container-id-1 div.sk-toggleable__content pre {margin: 0.2em;color: black;border-radius: 0.25em;background-color: #f0f8ff;}#sk-container-id-1 input.sk-toggleable__control:checked~div.sk-toggleable__content {max-height: 200px;max-width: 100%;overflow: auto;}#sk-container-id-1 input.sk-toggleable__control:checked~label.sk-toggleable__label-arrow:before {content: \"▾\";}#sk-container-id-1 div.sk-estimator input.sk-toggleable__control:checked~label.sk-toggleable__label {background-color: #d4ebff;}#sk-container-id-1 div.sk-label input.sk-toggleable__control:checked~label.sk-toggleable__label {background-color: #d4ebff;}#sk-container-id-1 input.sk-hidden--visually {border: 0;clip: rect(1px 1px 1px 1px);clip: rect(1px, 1px, 1px, 1px);height: 1px;margin: -1px;overflow: hidden;padding: 0;position: absolute;width: 1px;}#sk-container-id-1 div.sk-estimator {font-family: monospace;background-color: #f0f8ff;border: 1px dotted black;border-radius: 0.25em;box-sizing: border-box;margin-bottom: 0.5em;}#sk-container-id-1 div.sk-estimator:hover {background-color: #d4ebff;}#sk-container-id-1 div.sk-parallel-item::after {content: \"\";width: 100%;border-bottom: 1px solid gray;flex-grow: 1;}#sk-container-id-1 div.sk-label:hover label.sk-toggleable__label {background-color: #d4ebff;}#sk-container-id-1 div.sk-serial::before {content: \"\";position: absolute;border-left: 1px solid gray;box-sizing: border-box;top: 0;bottom: 0;left: 50%;z-index: 0;}#sk-container-id-1 div.sk-serial {display: flex;flex-direction: column;align-items: center;background-color: white;padding-right: 0.2em;padding-left: 0.2em;position: relative;}#sk-container-id-1 div.sk-item {position: relative;z-index: 1;}#sk-container-id-1 div.sk-parallel {display: flex;align-items: stretch;justify-content: center;background-color: white;position: relative;}#sk-container-id-1 div.sk-item::before, #sk-container-id-1 div.sk-parallel-item::before {content: \"\";position: absolute;border-left: 1px solid gray;box-sizing: border-box;top: 0;bottom: 0;left: 50%;z-index: -1;}#sk-container-id-1 div.sk-parallel-item {display: flex;flex-direction: column;z-index: 1;position: relative;background-color: white;}#sk-container-id-1 div.sk-parallel-item:first-child::after {align-self: flex-end;width: 50%;}#sk-container-id-1 div.sk-parallel-item:last-child::after {align-self: flex-start;width: 50%;}#sk-container-id-1 div.sk-parallel-item:only-child::after {width: 0;}#sk-container-id-1 div.sk-dashed-wrapped {border: 1px dashed gray;margin: 0 0.4em 0.5em 0.4em;box-sizing: border-box;padding-bottom: 0.4em;background-color: white;}#sk-container-id-1 div.sk-label label {font-family: monospace;font-weight: bold;display: inline-block;line-height: 1.2em;}#sk-container-id-1 div.sk-label-container {text-align: center;}#sk-container-id-1 div.sk-container {/* jupyter's `normalize.less` sets `[hidden] { display: none; }` but bootstrap.min.css set `[hidden] { display: none !important; }` so we also need the `!important` here to be able to override the default hidden behavior on the sphinx rendered scikit-learn.org. See: https://github.com/scikit-learn/scikit-learn/issues/21755 */display: inline-block !important;position: relative;}#sk-container-id-1 div.sk-text-repr-fallback {display: none;}</style><div id=\"sk-container-id-1\" class=\"sk-top-container\"><div class=\"sk-text-repr-fallback\"><pre>LinearRegression()</pre><b>In a Jupyter environment, please rerun this cell to show the HTML representation or trust the notebook. <br />On GitHub, the HTML representation is unable to render, please try loading this page with nbviewer.org.</b></div><div class=\"sk-container\" hidden><div class=\"sk-item\"><div class=\"sk-estimator sk-toggleable\"><input class=\"sk-toggleable__control sk-hidden--visually\" id=\"sk-estimator-id-1\" type=\"checkbox\" checked><label for=\"sk-estimator-id-1\" class=\"sk-toggleable__label sk-toggleable__label-arrow\">LinearRegression</label><div class=\"sk-toggleable__content\"><pre>LinearRegression()</pre></div></div></div></div></div>"
      ],
      "text/plain": [
       "LinearRegression()"
      ]
     },
     "execution_count": 18,
     "metadata": {},
     "output_type": "execute_result"
    }
   ],
   "source": [
    "LinearReg = LinearRegression()\n",
    "LinearReg.fit(X_train, y_train)"
   ]
  },
  {
   "cell_type": "code",
   "execution_count": 19,
   "id": "eeeda57b",
   "metadata": {
    "execution": {
     "iopub.execute_input": "2023-10-07T15:11:53.146771Z",
     "iopub.status.busy": "2023-10-07T15:11:53.145833Z",
     "iopub.status.idle": "2023-10-07T15:11:53.169506Z",
     "shell.execute_reply": "2023-10-07T15:11:53.167261Z"
    },
    "papermill": {
     "duration": 0.065578,
     "end_time": "2023-10-07T15:11:53.174541",
     "exception": false,
     "start_time": "2023-10-07T15:11:53.108963",
     "status": "completed"
    },
    "tags": []
   },
   "outputs": [],
   "source": [
    "predictions = LinearReg.predict(X_test)"
   ]
  },
  {
   "cell_type": "code",
   "execution_count": 20,
   "id": "01766ac7",
   "metadata": {
    "execution": {
     "iopub.execute_input": "2023-10-07T15:11:53.237301Z",
     "iopub.status.busy": "2023-10-07T15:11:53.236512Z",
     "iopub.status.idle": "2023-10-07T15:11:53.252567Z",
     "shell.execute_reply": "2023-10-07T15:11:53.251068Z"
    },
    "papermill": {
     "duration": 0.052502,
     "end_time": "2023-10-07T15:11:53.256919",
     "exception": false,
     "start_time": "2023-10-07T15:11:53.204417",
     "status": "completed"
    },
    "tags": []
   },
   "outputs": [
    {
     "name": "stdout",
     "output_type": "stream",
     "text": [
      "LinearRegression_MAE: 0.26297947542351696\n",
      "LinearRegression_MSE: 0.12638768973534364\n",
      "LinearRegression_R2: 0.2679830050126947\n"
     ]
    }
   ],
   "source": [
    "from sklearn.metrics import mean_absolute_error, mean_squared_error, r2_score\n",
    "\n",
    "# Calculate Mean Absolute Error (MAE)\n",
    "LinearRegression_MAE = mean_absolute_error(y_test, predictions)\n",
    "\n",
    "# Calculate Mean Squared Error (MSE)\n",
    "LinearRegression_MSE = mean_squared_error(y_test, predictions)\n",
    "\n",
    "# Calculate R-squared (R²)\n",
    "LinearRegression_R2 = r2_score(y_test, predictions)\n",
    "\n",
    "print('LinearRegression_MAE:', LinearRegression_MAE)\n",
    "print('LinearRegression_MSE:', LinearRegression_MSE)\n",
    "print('LinearRegression_R2:', LinearRegression_R2)"
   ]
  },
  {
   "cell_type": "code",
   "execution_count": 21,
   "id": "d6cccfae",
   "metadata": {
    "execution": {
     "iopub.execute_input": "2023-10-07T15:11:53.295977Z",
     "iopub.status.busy": "2023-10-07T15:11:53.295529Z",
     "iopub.status.idle": "2023-10-07T15:11:53.303329Z",
     "shell.execute_reply": "2023-10-07T15:11:53.302412Z"
    },
    "papermill": {
     "duration": 0.022389,
     "end_time": "2023-10-07T15:11:53.305484",
     "exception": false,
     "start_time": "2023-10-07T15:11:53.283095",
     "status": "completed"
    },
    "tags": []
   },
   "outputs": [
    {
     "name": "stdout",
     "output_type": "stream",
     "text": [
      "  Metric     Value\n",
      "0    MAE  0.262979\n",
      "1    MSE  0.126388\n",
      "2     R2  0.267983\n"
     ]
    }
   ],
   "source": [
    "# Create a DataFrame to store the metrics\n",
    "linear_metrics_df = pd.DataFrame({\n",
    "    'Metric': ['MAE', 'MSE', 'R2'],\n",
    "    'Value': [LinearRegression_MAE, LinearRegression_MSE, LinearRegression_R2]\n",
    "})\n",
    "\n",
    "# Display the DataFrame\n",
    "print(linear_metrics_df)"
   ]
  },
  {
   "cell_type": "markdown",
   "id": "3b90931c",
   "metadata": {
    "papermill": {
     "duration": 0.010571,
     "end_time": "2023-10-07T15:11:53.326416",
     "exception": false,
     "start_time": "2023-10-07T15:11:53.315845",
     "status": "completed"
    },
    "tags": []
   },
   "source": [
    "## Modeling: KNN"
   ]
  },
  {
   "cell_type": "code",
   "execution_count": 22,
   "id": "8a0de6b9",
   "metadata": {
    "execution": {
     "iopub.execute_input": "2023-10-07T15:11:53.349435Z",
     "iopub.status.busy": "2023-10-07T15:11:53.348132Z",
     "iopub.status.idle": "2023-10-07T15:11:53.359463Z",
     "shell.execute_reply": "2023-10-07T15:11:53.358585Z"
    },
    "papermill": {
     "duration": 0.025232,
     "end_time": "2023-10-07T15:11:53.361841",
     "exception": false,
     "start_time": "2023-10-07T15:11:53.336609",
     "status": "completed"
    },
    "tags": []
   },
   "outputs": [
    {
     "data": {
      "text/html": [
       "<style>#sk-container-id-2 {color: black;background-color: white;}#sk-container-id-2 pre{padding: 0;}#sk-container-id-2 div.sk-toggleable {background-color: white;}#sk-container-id-2 label.sk-toggleable__label {cursor: pointer;display: block;width: 100%;margin-bottom: 0;padding: 0.3em;box-sizing: border-box;text-align: center;}#sk-container-id-2 label.sk-toggleable__label-arrow:before {content: \"▸\";float: left;margin-right: 0.25em;color: #696969;}#sk-container-id-2 label.sk-toggleable__label-arrow:hover:before {color: black;}#sk-container-id-2 div.sk-estimator:hover label.sk-toggleable__label-arrow:before {color: black;}#sk-container-id-2 div.sk-toggleable__content {max-height: 0;max-width: 0;overflow: hidden;text-align: left;background-color: #f0f8ff;}#sk-container-id-2 div.sk-toggleable__content pre {margin: 0.2em;color: black;border-radius: 0.25em;background-color: #f0f8ff;}#sk-container-id-2 input.sk-toggleable__control:checked~div.sk-toggleable__content {max-height: 200px;max-width: 100%;overflow: auto;}#sk-container-id-2 input.sk-toggleable__control:checked~label.sk-toggleable__label-arrow:before {content: \"▾\";}#sk-container-id-2 div.sk-estimator input.sk-toggleable__control:checked~label.sk-toggleable__label {background-color: #d4ebff;}#sk-container-id-2 div.sk-label input.sk-toggleable__control:checked~label.sk-toggleable__label {background-color: #d4ebff;}#sk-container-id-2 input.sk-hidden--visually {border: 0;clip: rect(1px 1px 1px 1px);clip: rect(1px, 1px, 1px, 1px);height: 1px;margin: -1px;overflow: hidden;padding: 0;position: absolute;width: 1px;}#sk-container-id-2 div.sk-estimator {font-family: monospace;background-color: #f0f8ff;border: 1px dotted black;border-radius: 0.25em;box-sizing: border-box;margin-bottom: 0.5em;}#sk-container-id-2 div.sk-estimator:hover {background-color: #d4ebff;}#sk-container-id-2 div.sk-parallel-item::after {content: \"\";width: 100%;border-bottom: 1px solid gray;flex-grow: 1;}#sk-container-id-2 div.sk-label:hover label.sk-toggleable__label {background-color: #d4ebff;}#sk-container-id-2 div.sk-serial::before {content: \"\";position: absolute;border-left: 1px solid gray;box-sizing: border-box;top: 0;bottom: 0;left: 50%;z-index: 0;}#sk-container-id-2 div.sk-serial {display: flex;flex-direction: column;align-items: center;background-color: white;padding-right: 0.2em;padding-left: 0.2em;position: relative;}#sk-container-id-2 div.sk-item {position: relative;z-index: 1;}#sk-container-id-2 div.sk-parallel {display: flex;align-items: stretch;justify-content: center;background-color: white;position: relative;}#sk-container-id-2 div.sk-item::before, #sk-container-id-2 div.sk-parallel-item::before {content: \"\";position: absolute;border-left: 1px solid gray;box-sizing: border-box;top: 0;bottom: 0;left: 50%;z-index: -1;}#sk-container-id-2 div.sk-parallel-item {display: flex;flex-direction: column;z-index: 1;position: relative;background-color: white;}#sk-container-id-2 div.sk-parallel-item:first-child::after {align-self: flex-end;width: 50%;}#sk-container-id-2 div.sk-parallel-item:last-child::after {align-self: flex-start;width: 50%;}#sk-container-id-2 div.sk-parallel-item:only-child::after {width: 0;}#sk-container-id-2 div.sk-dashed-wrapped {border: 1px dashed gray;margin: 0 0.4em 0.5em 0.4em;box-sizing: border-box;padding-bottom: 0.4em;background-color: white;}#sk-container-id-2 div.sk-label label {font-family: monospace;font-weight: bold;display: inline-block;line-height: 1.2em;}#sk-container-id-2 div.sk-label-container {text-align: center;}#sk-container-id-2 div.sk-container {/* jupyter's `normalize.less` sets `[hidden] { display: none; }` but bootstrap.min.css set `[hidden] { display: none !important; }` so we also need the `!important` here to be able to override the default hidden behavior on the sphinx rendered scikit-learn.org. See: https://github.com/scikit-learn/scikit-learn/issues/21755 */display: inline-block !important;position: relative;}#sk-container-id-2 div.sk-text-repr-fallback {display: none;}</style><div id=\"sk-container-id-2\" class=\"sk-top-container\"><div class=\"sk-text-repr-fallback\"><pre>KNeighborsClassifier(n_neighbors=4)</pre><b>In a Jupyter environment, please rerun this cell to show the HTML representation or trust the notebook. <br />On GitHub, the HTML representation is unable to render, please try loading this page with nbviewer.org.</b></div><div class=\"sk-container\" hidden><div class=\"sk-item\"><div class=\"sk-estimator sk-toggleable\"><input class=\"sk-toggleable__control sk-hidden--visually\" id=\"sk-estimator-id-2\" type=\"checkbox\" checked><label for=\"sk-estimator-id-2\" class=\"sk-toggleable__label sk-toggleable__label-arrow\">KNeighborsClassifier</label><div class=\"sk-toggleable__content\"><pre>KNeighborsClassifier(n_neighbors=4)</pre></div></div></div></div></div>"
      ],
      "text/plain": [
       "KNeighborsClassifier(n_neighbors=4)"
      ]
     },
     "execution_count": 22,
     "metadata": {},
     "output_type": "execute_result"
    }
   ],
   "source": [
    "from sklearn.neighbors import KNeighborsClassifier\n",
    "\n",
    "# Create the KNN model with n_neighbors=4\n",
    "KNN = KNeighborsClassifier(n_neighbors=4)\n",
    "\n",
    "# Train the KNN model using the training data\n",
    "KNN.fit(X_train, y_train)"
   ]
  },
  {
   "cell_type": "code",
   "execution_count": 23,
   "id": "4bf95ebe",
   "metadata": {
    "execution": {
     "iopub.execute_input": "2023-10-07T15:11:53.385339Z",
     "iopub.status.busy": "2023-10-07T15:11:53.384498Z",
     "iopub.status.idle": "2023-10-07T15:11:53.464080Z",
     "shell.execute_reply": "2023-10-07T15:11:53.462906Z"
    },
    "papermill": {
     "duration": 0.094259,
     "end_time": "2023-10-07T15:11:53.466678",
     "exception": false,
     "start_time": "2023-10-07T15:11:53.372419",
     "status": "completed"
    },
    "tags": []
   },
   "outputs": [],
   "source": [
    "predictions = KNN.predict(X_test)"
   ]
  },
  {
   "cell_type": "code",
   "execution_count": 24,
   "id": "cda15dc0",
   "metadata": {
    "execution": {
     "iopub.execute_input": "2023-10-07T15:11:53.490171Z",
     "iopub.status.busy": "2023-10-07T15:11:53.489747Z",
     "iopub.status.idle": "2023-10-07T15:11:53.501811Z",
     "shell.execute_reply": "2023-10-07T15:11:53.500418Z"
    },
    "papermill": {
     "duration": 0.027398,
     "end_time": "2023-10-07T15:11:53.504744",
     "exception": false,
     "start_time": "2023-10-07T15:11:53.477346",
     "status": "completed"
    },
    "tags": []
   },
   "outputs": [],
   "source": [
    "from sklearn.metrics import accuracy_score, jaccard_score, f1_score\n",
    "\n",
    "# Calculate Accuracy Score\n",
    "KNN_Accuracy_Score = accuracy_score(y_test, predictions)\n",
    "\n",
    "# Calculate Jaccard Index\n",
    "KNN_JaccardIndex = jaccard_score(y_test, predictions, average='weighted')\n",
    "\n",
    "# Calculate F1 Score\n",
    "KNN_F1_Score = f1_score(y_test, predictions, average='weighted')\n"
   ]
  },
  {
   "cell_type": "code",
   "execution_count": 25,
   "id": "d4af2820",
   "metadata": {
    "execution": {
     "iopub.execute_input": "2023-10-07T15:11:53.528853Z",
     "iopub.status.busy": "2023-10-07T15:11:53.528134Z",
     "iopub.status.idle": "2023-10-07T15:11:53.533486Z",
     "shell.execute_reply": "2023-10-07T15:11:53.532423Z"
    },
    "papermill": {
     "duration": 0.019893,
     "end_time": "2023-10-07T15:11:53.535658",
     "exception": false,
     "start_time": "2023-10-07T15:11:53.515765",
     "status": "completed"
    },
    "tags": []
   },
   "outputs": [
    {
     "name": "stdout",
     "output_type": "stream",
     "text": [
      "KNN_Accuracy_Score: 0.8017751479289941\n",
      "KNN_JaccardIndex: 0.6705987733293354\n",
      "KNN_F1_Score: 0.7777939812171566\n"
     ]
    }
   ],
   "source": [
    "print('KNN_Accuracy_Score:', KNN_Accuracy_Score)\n",
    "print('KNN_JaccardIndex:', KNN_JaccardIndex)\n",
    "print('KNN_F1_Score:', KNN_F1_Score)"
   ]
  },
  {
   "cell_type": "markdown",
   "id": "9fe7e3e4",
   "metadata": {
    "papermill": {
     "duration": 0.011652,
     "end_time": "2023-10-07T15:11:53.558224",
     "exception": false,
     "start_time": "2023-10-07T15:11:53.546572",
     "status": "completed"
    },
    "tags": []
   },
   "source": [
    "## Modeling: Decision Tree"
   ]
  },
  {
   "cell_type": "code",
   "execution_count": 26,
   "id": "270f4ad4",
   "metadata": {
    "execution": {
     "iopub.execute_input": "2023-10-07T15:11:53.582194Z",
     "iopub.status.busy": "2023-10-07T15:11:53.581392Z",
     "iopub.status.idle": "2023-10-07T15:11:53.610291Z",
     "shell.execute_reply": "2023-10-07T15:11:53.609406Z"
    },
    "papermill": {
     "duration": 0.043751,
     "end_time": "2023-10-07T15:11:53.612693",
     "exception": false,
     "start_time": "2023-10-07T15:11:53.568942",
     "status": "completed"
    },
    "tags": []
   },
   "outputs": [
    {
     "data": {
      "text/html": [
       "<style>#sk-container-id-3 {color: black;background-color: white;}#sk-container-id-3 pre{padding: 0;}#sk-container-id-3 div.sk-toggleable {background-color: white;}#sk-container-id-3 label.sk-toggleable__label {cursor: pointer;display: block;width: 100%;margin-bottom: 0;padding: 0.3em;box-sizing: border-box;text-align: center;}#sk-container-id-3 label.sk-toggleable__label-arrow:before {content: \"▸\";float: left;margin-right: 0.25em;color: #696969;}#sk-container-id-3 label.sk-toggleable__label-arrow:hover:before {color: black;}#sk-container-id-3 div.sk-estimator:hover label.sk-toggleable__label-arrow:before {color: black;}#sk-container-id-3 div.sk-toggleable__content {max-height: 0;max-width: 0;overflow: hidden;text-align: left;background-color: #f0f8ff;}#sk-container-id-3 div.sk-toggleable__content pre {margin: 0.2em;color: black;border-radius: 0.25em;background-color: #f0f8ff;}#sk-container-id-3 input.sk-toggleable__control:checked~div.sk-toggleable__content {max-height: 200px;max-width: 100%;overflow: auto;}#sk-container-id-3 input.sk-toggleable__control:checked~label.sk-toggleable__label-arrow:before {content: \"▾\";}#sk-container-id-3 div.sk-estimator input.sk-toggleable__control:checked~label.sk-toggleable__label {background-color: #d4ebff;}#sk-container-id-3 div.sk-label input.sk-toggleable__control:checked~label.sk-toggleable__label {background-color: #d4ebff;}#sk-container-id-3 input.sk-hidden--visually {border: 0;clip: rect(1px 1px 1px 1px);clip: rect(1px, 1px, 1px, 1px);height: 1px;margin: -1px;overflow: hidden;padding: 0;position: absolute;width: 1px;}#sk-container-id-3 div.sk-estimator {font-family: monospace;background-color: #f0f8ff;border: 1px dotted black;border-radius: 0.25em;box-sizing: border-box;margin-bottom: 0.5em;}#sk-container-id-3 div.sk-estimator:hover {background-color: #d4ebff;}#sk-container-id-3 div.sk-parallel-item::after {content: \"\";width: 100%;border-bottom: 1px solid gray;flex-grow: 1;}#sk-container-id-3 div.sk-label:hover label.sk-toggleable__label {background-color: #d4ebff;}#sk-container-id-3 div.sk-serial::before {content: \"\";position: absolute;border-left: 1px solid gray;box-sizing: border-box;top: 0;bottom: 0;left: 50%;z-index: 0;}#sk-container-id-3 div.sk-serial {display: flex;flex-direction: column;align-items: center;background-color: white;padding-right: 0.2em;padding-left: 0.2em;position: relative;}#sk-container-id-3 div.sk-item {position: relative;z-index: 1;}#sk-container-id-3 div.sk-parallel {display: flex;align-items: stretch;justify-content: center;background-color: white;position: relative;}#sk-container-id-3 div.sk-item::before, #sk-container-id-3 div.sk-parallel-item::before {content: \"\";position: absolute;border-left: 1px solid gray;box-sizing: border-box;top: 0;bottom: 0;left: 50%;z-index: -1;}#sk-container-id-3 div.sk-parallel-item {display: flex;flex-direction: column;z-index: 1;position: relative;background-color: white;}#sk-container-id-3 div.sk-parallel-item:first-child::after {align-self: flex-end;width: 50%;}#sk-container-id-3 div.sk-parallel-item:last-child::after {align-self: flex-start;width: 50%;}#sk-container-id-3 div.sk-parallel-item:only-child::after {width: 0;}#sk-container-id-3 div.sk-dashed-wrapped {border: 1px dashed gray;margin: 0 0.4em 0.5em 0.4em;box-sizing: border-box;padding-bottom: 0.4em;background-color: white;}#sk-container-id-3 div.sk-label label {font-family: monospace;font-weight: bold;display: inline-block;line-height: 1.2em;}#sk-container-id-3 div.sk-label-container {text-align: center;}#sk-container-id-3 div.sk-container {/* jupyter's `normalize.less` sets `[hidden] { display: none; }` but bootstrap.min.css set `[hidden] { display: none !important; }` so we also need the `!important` here to be able to override the default hidden behavior on the sphinx rendered scikit-learn.org. See: https://github.com/scikit-learn/scikit-learn/issues/21755 */display: inline-block !important;position: relative;}#sk-container-id-3 div.sk-text-repr-fallback {display: none;}</style><div id=\"sk-container-id-3\" class=\"sk-top-container\"><div class=\"sk-text-repr-fallback\"><pre>DecisionTreeClassifier()</pre><b>In a Jupyter environment, please rerun this cell to show the HTML representation or trust the notebook. <br />On GitHub, the HTML representation is unable to render, please try loading this page with nbviewer.org.</b></div><div class=\"sk-container\" hidden><div class=\"sk-item\"><div class=\"sk-estimator sk-toggleable\"><input class=\"sk-toggleable__control sk-hidden--visually\" id=\"sk-estimator-id-3\" type=\"checkbox\" checked><label for=\"sk-estimator-id-3\" class=\"sk-toggleable__label sk-toggleable__label-arrow\">DecisionTreeClassifier</label><div class=\"sk-toggleable__content\"><pre>DecisionTreeClassifier()</pre></div></div></div></div></div>"
      ],
      "text/plain": [
       "DecisionTreeClassifier()"
      ]
     },
     "execution_count": 26,
     "metadata": {},
     "output_type": "execute_result"
    }
   ],
   "source": [
    "from sklearn.tree import DecisionTreeClassifier\n",
    "\n",
    "# Create the Decision Tree model\n",
    "Tree = DecisionTreeClassifier()\n",
    "\n",
    "# Train the Decision Tree model using the training data\n",
    "Tree.fit(X_train, y_train)"
   ]
  },
  {
   "cell_type": "code",
   "execution_count": 27,
   "id": "931b0d10",
   "metadata": {
    "execution": {
     "iopub.execute_input": "2023-10-07T15:11:53.637095Z",
     "iopub.status.busy": "2023-10-07T15:11:53.636186Z",
     "iopub.status.idle": "2023-10-07T15:11:53.642932Z",
     "shell.execute_reply": "2023-10-07T15:11:53.642148Z"
    },
    "papermill": {
     "duration": 0.021473,
     "end_time": "2023-10-07T15:11:53.645117",
     "exception": false,
     "start_time": "2023-10-07T15:11:53.623644",
     "status": "completed"
    },
    "tags": []
   },
   "outputs": [],
   "source": [
    "predictions = Tree.predict(X_test)"
   ]
  },
  {
   "cell_type": "code",
   "execution_count": 28,
   "id": "f99edcba",
   "metadata": {
    "execution": {
     "iopub.execute_input": "2023-10-07T15:11:53.669857Z",
     "iopub.status.busy": "2023-10-07T15:11:53.668575Z",
     "iopub.status.idle": "2023-10-07T15:11:53.683247Z",
     "shell.execute_reply": "2023-10-07T15:11:53.681954Z"
    },
    "papermill": {
     "duration": 0.030182,
     "end_time": "2023-10-07T15:11:53.686380",
     "exception": false,
     "start_time": "2023-10-07T15:11:53.656198",
     "status": "completed"
    },
    "tags": []
   },
   "outputs": [],
   "source": [
    "from sklearn.metrics import accuracy_score, jaccard_score, f1_score\n",
    "\n",
    "# Make predictions using the trained Decision Tree model\n",
    "tree_predictions = Tree.predict(X_test)\n",
    "\n",
    "# Calculate Accuracy Score\n",
    "Tree_Accuracy_Score = accuracy_score(y_test, tree_predictions)\n",
    "\n",
    "# Calculate Jaccard Index\n",
    "Tree_JaccardIndex = jaccard_score(y_test, tree_predictions, average='weighted')\n",
    "\n",
    "# Calculate F1 Score\n",
    "Tree_F1_Score = f1_score(y_test, tree_predictions, average='weighted')"
   ]
  },
  {
   "cell_type": "code",
   "execution_count": 29,
   "id": "32f4769a",
   "metadata": {
    "execution": {
     "iopub.execute_input": "2023-10-07T15:11:53.710963Z",
     "iopub.status.busy": "2023-10-07T15:11:53.710501Z",
     "iopub.status.idle": "2023-10-07T15:11:53.717237Z",
     "shell.execute_reply": "2023-10-07T15:11:53.715766Z"
    },
    "papermill": {
     "duration": 0.022338,
     "end_time": "2023-10-07T15:11:53.719661",
     "exception": false,
     "start_time": "2023-10-07T15:11:53.697323",
     "status": "completed"
    },
    "tags": []
   },
   "outputs": [
    {
     "name": "stdout",
     "output_type": "stream",
     "text": [
      "Tree_Accuracy_Score: 0.7485207100591716\n",
      "Tree_JaccardIndex: 0.6280458608214513\n",
      "Tree_F1_Score: 0.7579449832522205\n"
     ]
    }
   ],
   "source": [
    "print('Tree_Accuracy_Score:', Tree_Accuracy_Score)\n",
    "print('Tree_JaccardIndex:', Tree_JaccardIndex)\n",
    "print('Tree_F1_Score:', Tree_F1_Score)"
   ]
  },
  {
   "cell_type": "markdown",
   "id": "34e4b4f0",
   "metadata": {
    "papermill": {
     "duration": 0.010894,
     "end_time": "2023-10-07T15:11:53.742082",
     "exception": false,
     "start_time": "2023-10-07T15:11:53.731188",
     "status": "completed"
    },
    "tags": []
   },
   "source": [
    "## Modeling: Logistic Regression"
   ]
  },
  {
   "cell_type": "code",
   "execution_count": 30,
   "id": "5af51803",
   "metadata": {
    "execution": {
     "iopub.execute_input": "2023-10-07T15:11:53.767470Z",
     "iopub.status.busy": "2023-10-07T15:11:53.767003Z",
     "iopub.status.idle": "2023-10-07T15:11:53.774645Z",
     "shell.execute_reply": "2023-10-07T15:11:53.773758Z"
    },
    "papermill": {
     "duration": 0.023284,
     "end_time": "2023-10-07T15:11:53.776783",
     "exception": false,
     "start_time": "2023-10-07T15:11:53.753499",
     "status": "completed"
    },
    "tags": []
   },
   "outputs": [],
   "source": [
    "\n",
    "X_train_logistic, X_test_logistic, y_train_logistic, y_test_logistic = train_test_split(features, Y, test_size=0.2, random_state=1)\n"
   ]
  },
  {
   "cell_type": "code",
   "execution_count": 31,
   "id": "4c1639c1",
   "metadata": {
    "execution": {
     "iopub.execute_input": "2023-10-07T15:11:53.803089Z",
     "iopub.status.busy": "2023-10-07T15:11:53.802248Z",
     "iopub.status.idle": "2023-10-07T15:11:53.838553Z",
     "shell.execute_reply": "2023-10-07T15:11:53.837277Z"
    },
    "papermill": {
     "duration": 0.052521,
     "end_time": "2023-10-07T15:11:53.841202",
     "exception": false,
     "start_time": "2023-10-07T15:11:53.788681",
     "status": "completed"
    },
    "tags": []
   },
   "outputs": [
    {
     "data": {
      "text/html": [
       "<style>#sk-container-id-4 {color: black;background-color: white;}#sk-container-id-4 pre{padding: 0;}#sk-container-id-4 div.sk-toggleable {background-color: white;}#sk-container-id-4 label.sk-toggleable__label {cursor: pointer;display: block;width: 100%;margin-bottom: 0;padding: 0.3em;box-sizing: border-box;text-align: center;}#sk-container-id-4 label.sk-toggleable__label-arrow:before {content: \"▸\";float: left;margin-right: 0.25em;color: #696969;}#sk-container-id-4 label.sk-toggleable__label-arrow:hover:before {color: black;}#sk-container-id-4 div.sk-estimator:hover label.sk-toggleable__label-arrow:before {color: black;}#sk-container-id-4 div.sk-toggleable__content {max-height: 0;max-width: 0;overflow: hidden;text-align: left;background-color: #f0f8ff;}#sk-container-id-4 div.sk-toggleable__content pre {margin: 0.2em;color: black;border-radius: 0.25em;background-color: #f0f8ff;}#sk-container-id-4 input.sk-toggleable__control:checked~div.sk-toggleable__content {max-height: 200px;max-width: 100%;overflow: auto;}#sk-container-id-4 input.sk-toggleable__control:checked~label.sk-toggleable__label-arrow:before {content: \"▾\";}#sk-container-id-4 div.sk-estimator input.sk-toggleable__control:checked~label.sk-toggleable__label {background-color: #d4ebff;}#sk-container-id-4 div.sk-label input.sk-toggleable__control:checked~label.sk-toggleable__label {background-color: #d4ebff;}#sk-container-id-4 input.sk-hidden--visually {border: 0;clip: rect(1px 1px 1px 1px);clip: rect(1px, 1px, 1px, 1px);height: 1px;margin: -1px;overflow: hidden;padding: 0;position: absolute;width: 1px;}#sk-container-id-4 div.sk-estimator {font-family: monospace;background-color: #f0f8ff;border: 1px dotted black;border-radius: 0.25em;box-sizing: border-box;margin-bottom: 0.5em;}#sk-container-id-4 div.sk-estimator:hover {background-color: #d4ebff;}#sk-container-id-4 div.sk-parallel-item::after {content: \"\";width: 100%;border-bottom: 1px solid gray;flex-grow: 1;}#sk-container-id-4 div.sk-label:hover label.sk-toggleable__label {background-color: #d4ebff;}#sk-container-id-4 div.sk-serial::before {content: \"\";position: absolute;border-left: 1px solid gray;box-sizing: border-box;top: 0;bottom: 0;left: 50%;z-index: 0;}#sk-container-id-4 div.sk-serial {display: flex;flex-direction: column;align-items: center;background-color: white;padding-right: 0.2em;padding-left: 0.2em;position: relative;}#sk-container-id-4 div.sk-item {position: relative;z-index: 1;}#sk-container-id-4 div.sk-parallel {display: flex;align-items: stretch;justify-content: center;background-color: white;position: relative;}#sk-container-id-4 div.sk-item::before, #sk-container-id-4 div.sk-parallel-item::before {content: \"\";position: absolute;border-left: 1px solid gray;box-sizing: border-box;top: 0;bottom: 0;left: 50%;z-index: -1;}#sk-container-id-4 div.sk-parallel-item {display: flex;flex-direction: column;z-index: 1;position: relative;background-color: white;}#sk-container-id-4 div.sk-parallel-item:first-child::after {align-self: flex-end;width: 50%;}#sk-container-id-4 div.sk-parallel-item:last-child::after {align-self: flex-start;width: 50%;}#sk-container-id-4 div.sk-parallel-item:only-child::after {width: 0;}#sk-container-id-4 div.sk-dashed-wrapped {border: 1px dashed gray;margin: 0 0.4em 0.5em 0.4em;box-sizing: border-box;padding-bottom: 0.4em;background-color: white;}#sk-container-id-4 div.sk-label label {font-family: monospace;font-weight: bold;display: inline-block;line-height: 1.2em;}#sk-container-id-4 div.sk-label-container {text-align: center;}#sk-container-id-4 div.sk-container {/* jupyter's `normalize.less` sets `[hidden] { display: none; }` but bootstrap.min.css set `[hidden] { display: none !important; }` so we also need the `!important` here to be able to override the default hidden behavior on the sphinx rendered scikit-learn.org. See: https://github.com/scikit-learn/scikit-learn/issues/21755 */display: inline-block !important;position: relative;}#sk-container-id-4 div.sk-text-repr-fallback {display: none;}</style><div id=\"sk-container-id-4\" class=\"sk-top-container\"><div class=\"sk-text-repr-fallback\"><pre>LogisticRegression(solver=&#x27;liblinear&#x27;)</pre><b>In a Jupyter environment, please rerun this cell to show the HTML representation or trust the notebook. <br />On GitHub, the HTML representation is unable to render, please try loading this page with nbviewer.org.</b></div><div class=\"sk-container\" hidden><div class=\"sk-item\"><div class=\"sk-estimator sk-toggleable\"><input class=\"sk-toggleable__control sk-hidden--visually\" id=\"sk-estimator-id-4\" type=\"checkbox\" checked><label for=\"sk-estimator-id-4\" class=\"sk-toggleable__label sk-toggleable__label-arrow\">LogisticRegression</label><div class=\"sk-toggleable__content\"><pre>LogisticRegression(solver=&#x27;liblinear&#x27;)</pre></div></div></div></div></div>"
      ],
      "text/plain": [
       "LogisticRegression(solver='liblinear')"
      ]
     },
     "execution_count": 31,
     "metadata": {},
     "output_type": "execute_result"
    }
   ],
   "source": [
    "from sklearn.linear_model import LogisticRegression\n",
    "\n",
    "# Create the Logistic Regression model with solver='liblinear'\n",
    "LR = LogisticRegression(solver='liblinear')\n",
    "\n",
    "# Train the Logistic Regression model using the training data\n",
    "LR.fit(X_train_logistic, y_train_logistic)\n"
   ]
  },
  {
   "cell_type": "code",
   "execution_count": 32,
   "id": "7db100cf",
   "metadata": {
    "execution": {
     "iopub.execute_input": "2023-10-07T15:11:53.867161Z",
     "iopub.status.busy": "2023-10-07T15:11:53.866698Z",
     "iopub.status.idle": "2023-10-07T15:11:53.897551Z",
     "shell.execute_reply": "2023-10-07T15:11:53.895230Z"
    },
    "papermill": {
     "duration": 0.048952,
     "end_time": "2023-10-07T15:11:53.902425",
     "exception": false,
     "start_time": "2023-10-07T15:11:53.853473",
     "status": "completed"
    },
    "tags": []
   },
   "outputs": [],
   "source": [
    "# Use the trained Logistic Regression model to make predictions on the testing data\n",
    "predictions = LR.predict(X_test_logistic)\n",
    "\n",
    "# Use the trained Logistic Regression model to predict class probabilities on the testing data\n",
    "predict_proba = LR.predict_proba(X_test_logistic)\n"
   ]
  },
  {
   "cell_type": "code",
   "execution_count": 33,
   "id": "ca2403f2",
   "metadata": {
    "execution": {
     "iopub.execute_input": "2023-10-07T15:11:53.969140Z",
     "iopub.status.busy": "2023-10-07T15:11:53.968357Z",
     "iopub.status.idle": "2023-10-07T15:11:53.998323Z",
     "shell.execute_reply": "2023-10-07T15:11:53.996669Z"
    },
    "papermill": {
     "duration": 0.069063,
     "end_time": "2023-10-07T15:11:54.002933",
     "exception": false,
     "start_time": "2023-10-07T15:11:53.933870",
     "status": "completed"
    },
    "tags": []
   },
   "outputs": [
    {
     "name": "stdout",
     "output_type": "stream",
     "text": [
      "LR Accuracy Score: 0.8550295857988166\n",
      "LR Jaccard Index: 0.7517142977044777\n",
      "LR F1 Score: 0.8516254080692177\n",
      "LR Log Loss: 0.3414532904563015\n"
     ]
    }
   ],
   "source": [
    "from sklearn.metrics import accuracy_score, jaccard_score, f1_score, log_loss\n",
    "\n",
    "# Calculate Accuracy Score\n",
    "LR_Accuracy_Score = accuracy_score(y_test_logistic, predictions)\n",
    "\n",
    "# Calculate Jaccard Index\n",
    "LR_JaccardIndex = jaccard_score(y_test_logistic, predictions, average='weighted')\n",
    "\n",
    "# Calculate F1 Score\n",
    "LR_F1_Score = f1_score(y_test_logistic, predictions, average='weighted')\n",
    "\n",
    "# Calculate Log Loss\n",
    "LR_Log_Loss = log_loss(y_test_logistic, predict_proba)\n",
    "\n",
    "# Print the scores\n",
    "print(\"LR Accuracy Score:\", LR_Accuracy_Score)\n",
    "print(\"LR Jaccard Index:\", LR_JaccardIndex)\n",
    "print(\"LR F1 Score:\", LR_F1_Score)\n",
    "print(\"LR Log Loss:\", LR_Log_Loss)\n"
   ]
  },
  {
   "cell_type": "code",
   "execution_count": 34,
   "id": "5681a262",
   "metadata": {
    "execution": {
     "iopub.execute_input": "2023-10-07T15:11:54.037675Z",
     "iopub.status.busy": "2023-10-07T15:11:54.037242Z",
     "iopub.status.idle": "2023-10-07T15:11:54.106048Z",
     "shell.execute_reply": "2023-10-07T15:11:54.104772Z"
    },
    "papermill": {
     "duration": 0.087236,
     "end_time": "2023-10-07T15:11:54.110270",
     "exception": false,
     "start_time": "2023-10-07T15:11:54.023034",
     "status": "completed"
    },
    "tags": []
   },
   "outputs": [
    {
     "data": {
      "text/html": [
       "<style>#sk-container-id-5 {color: black;background-color: white;}#sk-container-id-5 pre{padding: 0;}#sk-container-id-5 div.sk-toggleable {background-color: white;}#sk-container-id-5 label.sk-toggleable__label {cursor: pointer;display: block;width: 100%;margin-bottom: 0;padding: 0.3em;box-sizing: border-box;text-align: center;}#sk-container-id-5 label.sk-toggleable__label-arrow:before {content: \"▸\";float: left;margin-right: 0.25em;color: #696969;}#sk-container-id-5 label.sk-toggleable__label-arrow:hover:before {color: black;}#sk-container-id-5 div.sk-estimator:hover label.sk-toggleable__label-arrow:before {color: black;}#sk-container-id-5 div.sk-toggleable__content {max-height: 0;max-width: 0;overflow: hidden;text-align: left;background-color: #f0f8ff;}#sk-container-id-5 div.sk-toggleable__content pre {margin: 0.2em;color: black;border-radius: 0.25em;background-color: #f0f8ff;}#sk-container-id-5 input.sk-toggleable__control:checked~div.sk-toggleable__content {max-height: 200px;max-width: 100%;overflow: auto;}#sk-container-id-5 input.sk-toggleable__control:checked~label.sk-toggleable__label-arrow:before {content: \"▾\";}#sk-container-id-5 div.sk-estimator input.sk-toggleable__control:checked~label.sk-toggleable__label {background-color: #d4ebff;}#sk-container-id-5 div.sk-label input.sk-toggleable__control:checked~label.sk-toggleable__label {background-color: #d4ebff;}#sk-container-id-5 input.sk-hidden--visually {border: 0;clip: rect(1px 1px 1px 1px);clip: rect(1px, 1px, 1px, 1px);height: 1px;margin: -1px;overflow: hidden;padding: 0;position: absolute;width: 1px;}#sk-container-id-5 div.sk-estimator {font-family: monospace;background-color: #f0f8ff;border: 1px dotted black;border-radius: 0.25em;box-sizing: border-box;margin-bottom: 0.5em;}#sk-container-id-5 div.sk-estimator:hover {background-color: #d4ebff;}#sk-container-id-5 div.sk-parallel-item::after {content: \"\";width: 100%;border-bottom: 1px solid gray;flex-grow: 1;}#sk-container-id-5 div.sk-label:hover label.sk-toggleable__label {background-color: #d4ebff;}#sk-container-id-5 div.sk-serial::before {content: \"\";position: absolute;border-left: 1px solid gray;box-sizing: border-box;top: 0;bottom: 0;left: 50%;z-index: 0;}#sk-container-id-5 div.sk-serial {display: flex;flex-direction: column;align-items: center;background-color: white;padding-right: 0.2em;padding-left: 0.2em;position: relative;}#sk-container-id-5 div.sk-item {position: relative;z-index: 1;}#sk-container-id-5 div.sk-parallel {display: flex;align-items: stretch;justify-content: center;background-color: white;position: relative;}#sk-container-id-5 div.sk-item::before, #sk-container-id-5 div.sk-parallel-item::before {content: \"\";position: absolute;border-left: 1px solid gray;box-sizing: border-box;top: 0;bottom: 0;left: 50%;z-index: -1;}#sk-container-id-5 div.sk-parallel-item {display: flex;flex-direction: column;z-index: 1;position: relative;background-color: white;}#sk-container-id-5 div.sk-parallel-item:first-child::after {align-self: flex-end;width: 50%;}#sk-container-id-5 div.sk-parallel-item:last-child::after {align-self: flex-start;width: 50%;}#sk-container-id-5 div.sk-parallel-item:only-child::after {width: 0;}#sk-container-id-5 div.sk-dashed-wrapped {border: 1px dashed gray;margin: 0 0.4em 0.5em 0.4em;box-sizing: border-box;padding-bottom: 0.4em;background-color: white;}#sk-container-id-5 div.sk-label label {font-family: monospace;font-weight: bold;display: inline-block;line-height: 1.2em;}#sk-container-id-5 div.sk-label-container {text-align: center;}#sk-container-id-5 div.sk-container {/* jupyter's `normalize.less` sets `[hidden] { display: none; }` but bootstrap.min.css set `[hidden] { display: none !important; }` so we also need the `!important` here to be able to override the default hidden behavior on the sphinx rendered scikit-learn.org. See: https://github.com/scikit-learn/scikit-learn/issues/21755 */display: inline-block !important;position: relative;}#sk-container-id-5 div.sk-text-repr-fallback {display: none;}</style><div id=\"sk-container-id-5\" class=\"sk-top-container\"><div class=\"sk-text-repr-fallback\"><pre>SVC()</pre><b>In a Jupyter environment, please rerun this cell to show the HTML representation or trust the notebook. <br />On GitHub, the HTML representation is unable to render, please try loading this page with nbviewer.org.</b></div><div class=\"sk-container\" hidden><div class=\"sk-item\"><div class=\"sk-estimator sk-toggleable\"><input class=\"sk-toggleable__control sk-hidden--visually\" id=\"sk-estimator-id-5\" type=\"checkbox\" checked><label for=\"sk-estimator-id-5\" class=\"sk-toggleable__label sk-toggleable__label-arrow\">SVC</label><div class=\"sk-toggleable__content\"><pre>SVC()</pre></div></div></div></div></div>"
      ],
      "text/plain": [
       "SVC()"
      ]
     },
     "execution_count": 34,
     "metadata": {},
     "output_type": "execute_result"
    }
   ],
   "source": [
    "from sklearn.svm import SVC\n",
    "\n",
    "# Create the SVM model\n",
    "SVM = SVC()\n",
    "\n",
    "# Train the SVM model using the training data\n",
    "SVM.fit(X_train_logistic, y_train_logistic)\n"
   ]
  },
  {
   "cell_type": "code",
   "execution_count": 35,
   "id": "4ca081b3",
   "metadata": {
    "execution": {
     "iopub.execute_input": "2023-10-07T15:11:54.135611Z",
     "iopub.status.busy": "2023-10-07T15:11:54.135141Z",
     "iopub.status.idle": "2023-10-07T15:11:54.160839Z",
     "shell.execute_reply": "2023-10-07T15:11:54.159712Z"
    },
    "papermill": {
     "duration": 0.042257,
     "end_time": "2023-10-07T15:11:54.164246",
     "exception": false,
     "start_time": "2023-10-07T15:11:54.121989",
     "status": "completed"
    },
    "tags": []
   },
   "outputs": [],
   "source": [
    "# Use the trained SVM model to make predictions on the testing data\n",
    "predictions = SVM.predict(X_test_logistic)\n"
   ]
  },
  {
   "cell_type": "code",
   "execution_count": 36,
   "id": "c6557e0e",
   "metadata": {
    "execution": {
     "iopub.execute_input": "2023-10-07T15:11:54.189916Z",
     "iopub.status.busy": "2023-10-07T15:11:54.189470Z",
     "iopub.status.idle": "2023-10-07T15:11:54.201947Z",
     "shell.execute_reply": "2023-10-07T15:11:54.200737Z"
    },
    "papermill": {
     "duration": 0.028588,
     "end_time": "2023-10-07T15:11:54.204345",
     "exception": false,
     "start_time": "2023-10-07T15:11:54.175757",
     "status": "completed"
    },
    "tags": []
   },
   "outputs": [
    {
     "name": "stdout",
     "output_type": "stream",
     "text": [
      "SVM Accuracy Score: 0.7455621301775148\n",
      "SVM Jaccard Index: 0.5558628899548335\n",
      "SVM F1 Score: 0.6368869722194364\n"
     ]
    }
   ],
   "source": [
    "from sklearn.metrics import accuracy_score, jaccard_score, f1_score\n",
    "\n",
    "# Calculate Accuracy Score\n",
    "SVM_Accuracy_Score = accuracy_score(y_test_logistic, predictions)\n",
    "\n",
    "# Calculate Jaccard Index\n",
    "SVM_JaccardIndex = jaccard_score(y_test_logistic, predictions, average='weighted')\n",
    "\n",
    "# Calculate F1 Score\n",
    "SVM_F1_Score = f1_score(y_test_logistic, predictions, average='weighted')\n",
    "\n",
    "# Print the scores\n",
    "print(\"SVM Accuracy Score:\", SVM_Accuracy_Score)\n",
    "print(\"SVM Jaccard Index:\", SVM_JaccardIndex)\n",
    "print(\"SVM F1 Score:\", SVM_F1_Score)\n",
    "\n"
   ]
  },
  {
   "cell_type": "code",
   "execution_count": 37,
   "id": "1d3f8424",
   "metadata": {
    "execution": {
     "iopub.execute_input": "2023-10-07T15:11:54.230451Z",
     "iopub.status.busy": "2023-10-07T15:11:54.229986Z",
     "iopub.status.idle": "2023-10-07T15:11:54.240527Z",
     "shell.execute_reply": "2023-10-07T15:11:54.239291Z"
    },
    "papermill": {
     "duration": 0.027382,
     "end_time": "2023-10-07T15:11:54.243242",
     "exception": false,
     "start_time": "2023-10-07T15:11:54.215860",
     "status": "completed"
    },
    "tags": []
   },
   "outputs": [
    {
     "name": "stdout",
     "output_type": "stream",
     "text": [
      "                 Model  Accuracy Score  Jaccard Index  F1 Score  Log Loss\n",
      "0    Linear Regression        0.855030       0.000000  0.000000  0.000000\n",
      "1        Decision Tree        0.748521       0.000000  0.757945  0.000000\n",
      "2  Logistic Regression        0.855030       0.751714  0.851625  0.341453\n",
      "3                  SVM        0.745562       0.555863  0.636887  0.000000\n"
     ]
    }
   ],
   "source": [
    "import pandas as pd\n",
    "\n",
    "# Create a DataFrame to store the metrics for all models\n",
    "metrics_df = pd.DataFrame({\n",
    "    'Model': ['Linear Regression', 'Decision Tree', 'Logistic Regression', 'SVM'],\n",
    "    'Accuracy Score': [LR_Accuracy_Score, Tree_Accuracy_Score, LR_Accuracy_Score, SVM_Accuracy_Score],\n",
    "    'Jaccard Index': [0, 0, LR_JaccardIndex, SVM_JaccardIndex],  # Note: Decision Tree does not have Jaccard Index\n",
    "    'F1 Score': [0, Tree_F1_Score, LR_F1_Score, SVM_F1_Score],\n",
    "    'Log Loss': [0, 0, LR_Log_Loss, 0]  # Note: Decision Tree and SVM do not have Log Loss\n",
    "})\n",
    "\n",
    "# Print the DataFrame\n",
    "print(metrics_df)\n"
   ]
  },
  {
   "cell_type": "code",
   "execution_count": null,
   "id": "7e1253c4",
   "metadata": {
    "papermill": {
     "duration": 0.011271,
     "end_time": "2023-10-07T15:11:54.266382",
     "exception": false,
     "start_time": "2023-10-07T15:11:54.255111",
     "status": "completed"
    },
    "tags": []
   },
   "outputs": [],
   "source": []
  }
 ],
 "metadata": {
  "kernelspec": {
   "display_name": "Python 3",
   "language": "python",
   "name": "python3"
  },
  "language_info": {
   "codemirror_mode": {
    "name": "ipython",
    "version": 3
   },
   "file_extension": ".py",
   "mimetype": "text/x-python",
   "name": "python",
   "nbconvert_exporter": "python",
   "pygments_lexer": "ipython3",
   "version": "3.10.12"
  },
  "papermill": {
   "default_parameters": {},
   "duration": 9.20552,
   "end_time": "2023-10-07T15:11:55.002660",
   "environment_variables": {},
   "exception": null,
   "input_path": "__notebook__.ipynb",
   "output_path": "__notebook__.ipynb",
   "parameters": {},
   "start_time": "2023-10-07T15:11:45.797140",
   "version": "2.4.0"
  }
 },
 "nbformat": 4,
 "nbformat_minor": 5
}
